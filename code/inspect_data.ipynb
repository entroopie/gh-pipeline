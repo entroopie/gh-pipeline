{
 "cells": [
  {
   "cell_type": "code",
   "execution_count": 1,
   "id": "f66a6aec",
   "metadata": {},
   "outputs": [],
   "source": [
    "import pandas as pd"
   ]
  },
  {
   "cell_type": "code",
   "execution_count": 2,
   "id": "98e57555",
   "metadata": {},
   "outputs": [],
   "source": [
    "df = pd.read_parquet('gh_data/2015/04/04/2015-04-04-23.parquet.gz')\n"
   ]
  },
  {
   "cell_type": "code",
   "execution_count": 3,
   "id": "92768ab3",
   "metadata": {},
   "outputs": [
    {
     "data": {
      "text/html": [
       "<div>\n",
       "<style scoped>\n",
       "    .dataframe tbody tr th:only-of-type {\n",
       "        vertical-align: middle;\n",
       "    }\n",
       "\n",
       "    .dataframe tbody tr th {\n",
       "        vertical-align: top;\n",
       "    }\n",
       "\n",
       "    .dataframe thead th {\n",
       "        text-align: right;\n",
       "    }\n",
       "</style>\n",
       "<table border=\"1\" class=\"dataframe\">\n",
       "  <thead>\n",
       "    <tr style=\"text-align: right;\">\n",
       "      <th></th>\n",
       "      <th>id</th>\n",
       "      <th>type</th>\n",
       "      <th>actor</th>\n",
       "      <th>repo</th>\n",
       "      <th>payload</th>\n",
       "      <th>public</th>\n",
       "      <th>created_at</th>\n",
       "      <th>org</th>\n",
       "      <th>year</th>\n",
       "      <th>month</th>\n",
       "      <th>day</th>\n",
       "    </tr>\n",
       "  </thead>\n",
       "  <tbody>\n",
       "    <tr>\n",
       "      <th>0</th>\n",
       "      <td>2701122541</td>\n",
       "      <td>GollumEvent</td>\n",
       "      <td>{'avatar_url': 'https://avatars.githubusercont...</td>\n",
       "      <td>{'id': 33086969, 'name': 'AstartesGuardian/Web...</td>\n",
       "      <td>{'action': None, 'before': None, 'comment': No...</td>\n",
       "      <td>True</td>\n",
       "      <td>2015-04-04 23:00:00+00:00</td>\n",
       "      <td>{'avatar_url': 'https://avatars.githubusercont...</td>\n",
       "      <td>2015</td>\n",
       "      <td>4</td>\n",
       "      <td>4</td>\n",
       "    </tr>\n",
       "    <tr>\n",
       "      <th>1</th>\n",
       "      <td>2701122545</td>\n",
       "      <td>PushEvent</td>\n",
       "      <td>{'avatar_url': 'https://avatars.githubusercont...</td>\n",
       "      <td>{'id': 33337905, 'name': 'jxwuyi/cs267-hw3', '...</td>\n",
       "      <td>{'action': None, 'before': '77621ade20b69b02bd...</td>\n",
       "      <td>True</td>\n",
       "      <td>2015-04-04 23:00:00+00:00</td>\n",
       "      <td>None</td>\n",
       "      <td>2015</td>\n",
       "      <td>4</td>\n",
       "      <td>4</td>\n",
       "    </tr>\n",
       "    <tr>\n",
       "      <th>2</th>\n",
       "      <td>2701122546</td>\n",
       "      <td>PushEvent</td>\n",
       "      <td>{'avatar_url': 'https://avatars.githubusercont...</td>\n",
       "      <td>{'id': 33367802, 'name': 'Toebez/project-lilo-...</td>\n",
       "      <td>{'action': None, 'before': '9777a71b61a90b38e3...</td>\n",
       "      <td>True</td>\n",
       "      <td>2015-04-04 23:00:00+00:00</td>\n",
       "      <td>None</td>\n",
       "      <td>2015</td>\n",
       "      <td>4</td>\n",
       "      <td>4</td>\n",
       "    </tr>\n",
       "    <tr>\n",
       "      <th>3</th>\n",
       "      <td>2701122547</td>\n",
       "      <td>PushEvent</td>\n",
       "      <td>{'avatar_url': 'https://avatars.githubusercont...</td>\n",
       "      <td>{'id': 33229231, 'name': 'raboof/dfscala-bench...</td>\n",
       "      <td>{'action': None, 'before': '9c9e84119530bc9dce...</td>\n",
       "      <td>True</td>\n",
       "      <td>2015-04-04 23:00:00+00:00</td>\n",
       "      <td>None</td>\n",
       "      <td>2015</td>\n",
       "      <td>4</td>\n",
       "      <td>4</td>\n",
       "    </tr>\n",
       "    <tr>\n",
       "      <th>4</th>\n",
       "      <td>2701122548</td>\n",
       "      <td>PushEvent</td>\n",
       "      <td>{'avatar_url': 'https://avatars.githubusercont...</td>\n",
       "      <td>{'id': 33420703, 'name': 'petriq/Tarot', 'url'...</td>\n",
       "      <td>{'action': None, 'before': '986790a1af2b53742e...</td>\n",
       "      <td>True</td>\n",
       "      <td>2015-04-04 23:00:00+00:00</td>\n",
       "      <td>None</td>\n",
       "      <td>2015</td>\n",
       "      <td>4</td>\n",
       "      <td>4</td>\n",
       "    </tr>\n",
       "    <tr>\n",
       "      <th>5</th>\n",
       "      <td>2701122550</td>\n",
       "      <td>PushEvent</td>\n",
       "      <td>{'avatar_url': 'https://avatars.githubusercont...</td>\n",
       "      <td>{'id': 33422197, 'name': 'mayel/resiliencelabs...</td>\n",
       "      <td>{'action': None, 'before': '61e3cd2d9a70688a6f...</td>\n",
       "      <td>True</td>\n",
       "      <td>2015-04-04 23:00:00+00:00</td>\n",
       "      <td>None</td>\n",
       "      <td>2015</td>\n",
       "      <td>4</td>\n",
       "      <td>4</td>\n",
       "    </tr>\n",
       "    <tr>\n",
       "      <th>6</th>\n",
       "      <td>2701122551</td>\n",
       "      <td>CreateEvent</td>\n",
       "      <td>{'avatar_url': 'https://avatars.githubusercont...</td>\n",
       "      <td>{'id': 33423286, 'name': 'arcanite24/sticky-du...</td>\n",
       "      <td>{'action': None, 'before': None, 'comment': No...</td>\n",
       "      <td>True</td>\n",
       "      <td>2015-04-04 23:00:00+00:00</td>\n",
       "      <td>None</td>\n",
       "      <td>2015</td>\n",
       "      <td>4</td>\n",
       "      <td>4</td>\n",
       "    </tr>\n",
       "    <tr>\n",
       "      <th>7</th>\n",
       "      <td>2701122552</td>\n",
       "      <td>PushEvent</td>\n",
       "      <td>{'avatar_url': 'https://avatars.githubusercont...</td>\n",
       "      <td>{'id': 33389362, 'name': 'Darthpwner/Map-Motio...</td>\n",
       "      <td>{'action': None, 'before': 'ad419fb12a60fb8709...</td>\n",
       "      <td>True</td>\n",
       "      <td>2015-04-04 23:00:00+00:00</td>\n",
       "      <td>None</td>\n",
       "      <td>2015</td>\n",
       "      <td>4</td>\n",
       "      <td>4</td>\n",
       "    </tr>\n",
       "    <tr>\n",
       "      <th>8</th>\n",
       "      <td>2701122553</td>\n",
       "      <td>PushEvent</td>\n",
       "      <td>{'avatar_url': 'https://avatars.githubusercont...</td>\n",
       "      <td>{'id': 31869079, 'name': 'iopq/iomrascalai', '...</td>\n",
       "      <td>{'action': None, 'before': 'a61047eb0bb6969a9c...</td>\n",
       "      <td>True</td>\n",
       "      <td>2015-04-04 23:00:00+00:00</td>\n",
       "      <td>None</td>\n",
       "      <td>2015</td>\n",
       "      <td>4</td>\n",
       "      <td>4</td>\n",
       "    </tr>\n",
       "    <tr>\n",
       "      <th>9</th>\n",
       "      <td>2701122554</td>\n",
       "      <td>DeleteEvent</td>\n",
       "      <td>{'avatar_url': 'https://avatars.githubusercont...</td>\n",
       "      <td>{'id': 20730789, 'name': 'dmcgowan/libchan', '...</td>\n",
       "      <td>{'action': None, 'before': None, 'comment': No...</td>\n",
       "      <td>True</td>\n",
       "      <td>2015-04-04 23:00:00+00:00</td>\n",
       "      <td>None</td>\n",
       "      <td>2015</td>\n",
       "      <td>4</td>\n",
       "      <td>4</td>\n",
       "    </tr>\n",
       "  </tbody>\n",
       "</table>\n",
       "</div>"
      ],
      "text/plain": [
       "           id         type                                              actor  \\\n",
       "0  2701122541  GollumEvent  {'avatar_url': 'https://avatars.githubusercont...   \n",
       "1  2701122545    PushEvent  {'avatar_url': 'https://avatars.githubusercont...   \n",
       "2  2701122546    PushEvent  {'avatar_url': 'https://avatars.githubusercont...   \n",
       "3  2701122547    PushEvent  {'avatar_url': 'https://avatars.githubusercont...   \n",
       "4  2701122548    PushEvent  {'avatar_url': 'https://avatars.githubusercont...   \n",
       "5  2701122550    PushEvent  {'avatar_url': 'https://avatars.githubusercont...   \n",
       "6  2701122551  CreateEvent  {'avatar_url': 'https://avatars.githubusercont...   \n",
       "7  2701122552    PushEvent  {'avatar_url': 'https://avatars.githubusercont...   \n",
       "8  2701122553    PushEvent  {'avatar_url': 'https://avatars.githubusercont...   \n",
       "9  2701122554  DeleteEvent  {'avatar_url': 'https://avatars.githubusercont...   \n",
       "\n",
       "                                                repo  \\\n",
       "0  {'id': 33086969, 'name': 'AstartesGuardian/Web...   \n",
       "1  {'id': 33337905, 'name': 'jxwuyi/cs267-hw3', '...   \n",
       "2  {'id': 33367802, 'name': 'Toebez/project-lilo-...   \n",
       "3  {'id': 33229231, 'name': 'raboof/dfscala-bench...   \n",
       "4  {'id': 33420703, 'name': 'petriq/Tarot', 'url'...   \n",
       "5  {'id': 33422197, 'name': 'mayel/resiliencelabs...   \n",
       "6  {'id': 33423286, 'name': 'arcanite24/sticky-du...   \n",
       "7  {'id': 33389362, 'name': 'Darthpwner/Map-Motio...   \n",
       "8  {'id': 31869079, 'name': 'iopq/iomrascalai', '...   \n",
       "9  {'id': 20730789, 'name': 'dmcgowan/libchan', '...   \n",
       "\n",
       "                                             payload  public  \\\n",
       "0  {'action': None, 'before': None, 'comment': No...    True   \n",
       "1  {'action': None, 'before': '77621ade20b69b02bd...    True   \n",
       "2  {'action': None, 'before': '9777a71b61a90b38e3...    True   \n",
       "3  {'action': None, 'before': '9c9e84119530bc9dce...    True   \n",
       "4  {'action': None, 'before': '986790a1af2b53742e...    True   \n",
       "5  {'action': None, 'before': '61e3cd2d9a70688a6f...    True   \n",
       "6  {'action': None, 'before': None, 'comment': No...    True   \n",
       "7  {'action': None, 'before': 'ad419fb12a60fb8709...    True   \n",
       "8  {'action': None, 'before': 'a61047eb0bb6969a9c...    True   \n",
       "9  {'action': None, 'before': None, 'comment': No...    True   \n",
       "\n",
       "                 created_at  \\\n",
       "0 2015-04-04 23:00:00+00:00   \n",
       "1 2015-04-04 23:00:00+00:00   \n",
       "2 2015-04-04 23:00:00+00:00   \n",
       "3 2015-04-04 23:00:00+00:00   \n",
       "4 2015-04-04 23:00:00+00:00   \n",
       "5 2015-04-04 23:00:00+00:00   \n",
       "6 2015-04-04 23:00:00+00:00   \n",
       "7 2015-04-04 23:00:00+00:00   \n",
       "8 2015-04-04 23:00:00+00:00   \n",
       "9 2015-04-04 23:00:00+00:00   \n",
       "\n",
       "                                                 org  year  month  day  \n",
       "0  {'avatar_url': 'https://avatars.githubusercont...  2015      4    4  \n",
       "1                                               None  2015      4    4  \n",
       "2                                               None  2015      4    4  \n",
       "3                                               None  2015      4    4  \n",
       "4                                               None  2015      4    4  \n",
       "5                                               None  2015      4    4  \n",
       "6                                               None  2015      4    4  \n",
       "7                                               None  2015      4    4  \n",
       "8                                               None  2015      4    4  \n",
       "9                                               None  2015      4    4  "
      ]
     },
     "execution_count": 3,
     "metadata": {},
     "output_type": "execute_result"
    }
   ],
   "source": [
    "df.head(10)"
   ]
  },
  {
   "cell_type": "code",
   "execution_count": 4,
   "id": "2ba0a3e1",
   "metadata": {},
   "outputs": [
    {
     "data": {
      "text/plain": [
       "Index(['id', 'type', 'actor', 'repo', 'payload', 'public', 'created_at', 'org',\n",
       "       'year', 'month', 'day'],\n",
       "      dtype='object')"
      ]
     },
     "execution_count": 4,
     "metadata": {},
     "output_type": "execute_result"
    }
   ],
   "source": [
    "df.columns"
   ]
  },
  {
   "cell_type": "code",
   "execution_count": 21,
   "id": "e324976f",
   "metadata": {},
   "outputs": [
    {
     "name": "stdout",
     "output_type": "stream",
     "text": [
      "{'avatar_url': 'https://avatars.githubusercontent.com/u/7069659?', 'gravatar_id': '', 'id': 7069659.0, 'login': 'AstartesGuardian', 'url': 'https://api.github.com/orgs/AstartesGuardian'}\n"
     ]
    }
   ],
   "source": [
    "print(df[\"org\"][0])"
   ]
  },
  {
   "cell_type": "code",
   "execution_count": 23,
   "id": "24c42a3a",
   "metadata": {},
   "outputs": [
    {
     "name": "stdout",
     "output_type": "stream",
     "text": [
      "{'avatar_url': 'https://avatars.githubusercontent.com/u/131856?', 'gravatar_id': '', 'id': 131856, 'login': 'raboof', 'url': 'https://api.github.com/users/raboof'}\n"
     ]
    }
   ],
   "source": [
    "print(df[\"actor\"][3])"
   ]
  },
  {
   "cell_type": "code",
   "execution_count": 16,
   "id": "10ee889d",
   "metadata": {},
   "outputs": [
    {
     "name": "stdout",
     "output_type": "stream",
     "text": [
      "{'id': 33229231, 'name': 'raboof/dfscala-benchmarks', 'url': 'https://api.github.com/repos/raboof/dfscala-benchmarks'}\n"
     ]
    }
   ],
   "source": [
    "print(df[\"repo\"][3])"
   ]
  },
  {
   "cell_type": "code",
   "execution_count": 7,
   "id": "9c8ccf97",
   "metadata": {},
   "outputs": [
    {
     "name": "stdout",
     "output_type": "stream",
     "text": [
      "<class 'pandas.core.frame.DataFrame'>\n",
      "RangeIndex: 14576 entries, 0 to 14575\n",
      "Data columns (total 11 columns):\n",
      " #   Column      Non-Null Count  Dtype              \n",
      "---  ------      --------------  -----              \n",
      " 0   id          14576 non-null  Int64              \n",
      " 1   type        14576 non-null  string             \n",
      " 2   actor       14576 non-null  object             \n",
      " 3   repo        14576 non-null  object             \n",
      " 4   payload     14576 non-null  object             \n",
      " 5   public      14576 non-null  bool               \n",
      " 6   created_at  14576 non-null  datetime64[ns, UTC]\n",
      " 7   org         3729 non-null   object             \n",
      " 8   year        14576 non-null  int64              \n",
      " 9   month       14576 non-null  int64              \n",
      " 10  day         14576 non-null  int64              \n",
      "dtypes: Int64(1), bool(1), datetime64[ns, UTC](1), int64(3), object(4), string(1)\n",
      "memory usage: 1.1+ MB\n"
     ]
    }
   ],
   "source": [
    "df.info()"
   ]
  },
  {
   "cell_type": "code",
   "execution_count": 8,
   "id": "758ab82a",
   "metadata": {},
   "outputs": [
    {
     "name": "stdout",
     "output_type": "stream",
     "text": [
      "{'action': None, 'before': '9777a71b61a90b38e3678bffac14c5cb607b0cd9', 'comment': None, 'commits': array([{'author': {'email': '70ee115773a3be473ffa29ed5dfcbe0194b5bb5e@xebia.com', 'name': 'Jan Toebes'}, 'distinct': True, 'message': '-', 'sha': '4823f91ea677773dbbc76987098ff6742a6d6d96', 'url': 'https://api.github.com/repos/Toebez/project-lilo-final/commits/4823f91ea677773dbbc76987098ff6742a6d6d96'}],\n",
      "      dtype=object), 'description': None, 'distinct_size': 1.0, 'forkee': None, 'head': '4823f91ea677773dbbc76987098ff6742a6d6d96', 'issue': None, 'master_branch': None, 'member': None, 'number': None, 'pages': None, 'pull_request': None, 'push_id': 623120968.0, 'pusher_type': None, 'ref': 'refs/heads/master', 'ref_type': None, 'release': None, 'size': 1.0}\n"
     ]
    }
   ],
   "source": [
    "print(df[\"payload\"][2])"
   ]
  },
  {
   "cell_type": "code",
   "execution_count": 10,
   "id": "8a63c5bf",
   "metadata": {},
   "outputs": [
    {
     "name": "stdout",
     "output_type": "stream",
     "text": [
      "<StringArray>\n",
      "[                  'GollumEvent',                     'PushEvent',\n",
      "                   'CreateEvent',                   'DeleteEvent',\n",
      "                   'IssuesEvent',                    'WatchEvent',\n",
      "             'IssueCommentEvent',              'PullRequestEvent',\n",
      "                     'ForkEvent',                   'MemberEvent',\n",
      " 'PullRequestReviewCommentEvent',            'CommitCommentEvent',\n",
      "                  'ReleaseEvent',                   'PublicEvent']\n",
      "Length: 14, dtype: string\n",
      "[ True]\n"
     ]
    }
   ],
   "source": [
    "cols = ['type', 'public']\n",
    "\n",
    "for col in cols:\n",
    "  print(df[col].unique())"
   ]
  },
  {
   "cell_type": "code",
   "execution_count": 11,
   "id": "9f6abb5c",
   "metadata": {},
   "outputs": [
    {
     "data": {
      "text/plain": [
       "id                0\n",
       "type              0\n",
       "actor             0\n",
       "repo              0\n",
       "payload           0\n",
       "public            0\n",
       "created_at        0\n",
       "org           10847\n",
       "year              0\n",
       "month             0\n",
       "day               0\n",
       "dtype: int64"
      ]
     },
     "execution_count": 11,
     "metadata": {},
     "output_type": "execute_result"
    }
   ],
   "source": [
    "df.isnull().sum()"
   ]
  },
  {
   "cell_type": "code",
   "execution_count": null,
   "id": "4d7dbccc",
   "metadata": {},
   "outputs": [],
   "source": [
    "df[].sum()"
   ]
  }
 ],
 "metadata": {
  "kernelspec": {
   "display_name": "Python 3 (ipykernel)",
   "language": "python",
   "name": "python3"
  },
  "language_info": {
   "codemirror_mode": {
    "name": "ipython",
    "version": 3
   },
   "file_extension": ".py",
   "mimetype": "text/x-python",
   "name": "python",
   "nbconvert_exporter": "python",
   "pygments_lexer": "ipython3",
   "version": "3.11.0"
  }
 },
 "nbformat": 4,
 "nbformat_minor": 5
}
